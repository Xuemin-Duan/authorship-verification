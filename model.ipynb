{
 "cells": [
  {
   "cell_type": "code",
   "execution_count": 27,
   "id": "d1717df1",
   "metadata": {},
   "outputs": [
    {
     "name": "stderr",
     "output_type": "stream",
     "text": [
      "/Library/Frameworks/Python.framework/Versions/3.7/lib/python3.7/site-packages/sklearn/externals/joblib/__init__.py:15: FutureWarning: sklearn.externals.joblib is deprecated in 0.21 and will be removed in 0.23. Please import this functionality directly from joblib, which can be installed with: pip install joblib. If this warning is raised when loading pickled models, you may need to re-serialize those models with scikit-learn 0.21+.\n",
      "  warnings.warn(msg, category=FutureWarning)\n"
     ]
    }
   ],
   "source": [
    "from sklearn.preprocessing import MinMaxScaler\n",
    "import pandas as pd\n",
    "import numpy as np\n",
    "import re\n",
    "from sklearn.tree import DecisionTreeClassifier\n",
    "from sklearn.model_selection import train_test_split\n",
    "from sklearn.metrics import classification_report\n",
    "from sklearn.pipeline import Pipeline\n",
    "from sklearn.model_selection import GridSearchCV\n",
    "from sklearn.ensemble import RandomForestClassifier\n",
    "from sklearn.metrics import accuracy_score\n",
    "from sklearn.datasets import load_breast_cancer\n",
    "from sklearn.linear_model import LogisticRegression\n",
    "from sklearn import tree\n",
    "from sklearn.svm import SVC\n",
    "from sklearn.externals import joblib\n",
    "from sklearn.model_selection import train_test_split\n",
    "from sklearn.feature_extraction.text import TfidfVectorizer, CountVectorizer\n",
    "from sklearn.linear_model import LogisticRegression\n",
    "from sklearn.metrics import accuracy_score, f1_score, precision_score, recall_score, classification_report, roc_auc_score,confusion_matrix"
   ]
  },
  {
   "cell_type": "code",
   "execution_count": 1,
   "id": "60992eff",
   "metadata": {},
   "outputs": [],
   "source": [
    "from pan20_verif_evaluator import auc,c_at_1,f1,f_05_u_score"
   ]
  },
  {
   "cell_type": "code",
   "execution_count": 4,
   "id": "ba5cc8f9",
   "metadata": {},
   "outputs": [],
   "source": [
    "def normal(data):\n",
    "    scaler = MinMaxScaler()\n",
    "    return scaler.fit_transform(data) "
   ]
  },
  {
   "cell_type": "code",
   "execution_count": null,
   "id": "57bbbb56",
   "metadata": {},
   "outputs": [],
   "source": [
    "# code from pan20_verif_evaluator.py\n",
    "def auc(true_y, pred_y):\n",
    "    \n",
    "    try:\n",
    "        return roc_auc_score(true_y, pred_y)\n",
    "    except ValueError:\n",
    "        return 0.0\n",
    "\n",
    "def c_at_1(true_y, pred_y, threshold=0.5):\n",
    "    \n",
    "\n",
    "    n = float(len(pred_y))\n",
    "    nc, nu = 0.0, 0.0\n",
    "\n",
    "    for gt_score, pred_score in zip(true_y, pred_y):\n",
    "        if pred_score == 0.5:\n",
    "            nu += 1\n",
    "        elif (pred_score > 0.5) == (gt_score > 0.5):\n",
    "            nc += 1.0\n",
    "    \n",
    "    return (1 / n) * (nc + (nu * nc / n))\n",
    "\n",
    "\n",
    "def f1(true_y, pred_y):\n",
    "    \n",
    "    true_y_filtered, pred_y_filtered = [], []\n",
    "\n",
    "    for true, pred in zip(true_y, pred_y):\n",
    "        if pred != 0.5:\n",
    "            true_y_filtered.append(true)\n",
    "            pred_y_filtered.append(pred)\n",
    "    \n",
    "    pred_y_filtered = binarize(pred_y_filtered)\n",
    "\n",
    "    return f1_score(true_y_filtered, pred_y_filtered)\n",
    "\n",
    "\n",
    "def f_05_u_score(true_y, pred_y, pos_label=1, threshold=0.5):\n",
    "   \n",
    "\n",
    "    pred_y = binarize(pred_y)\n",
    "\n",
    "    n_tp = 0\n",
    "    n_fn = 0\n",
    "    n_fp = 0\n",
    "    n_u = 0\n",
    "\n",
    "    for i, pred in enumerate(pred_y):\n",
    "        if pred == threshold:\n",
    "            n_u += 1\n",
    "        elif pred == pos_label and pred == true_y[i]:\n",
    "            n_tp += 1\n",
    "        elif pred == pos_label and pred != true_y[i]:\n",
    "            n_fp += 1\n",
    "        elif true_y[i] == pos_label and pred != true_y[i]:\n",
    "            n_fn += 1\n",
    "\n",
    "    return (1.25 * n_tp) / (1.25 * n_tp + 0.25 * (n_fn + n_u) + n_fp)"
   ]
  },
  {
   "cell_type": "code",
   "execution_count": 30,
   "id": "e829f03e",
   "metadata": {},
   "outputs": [],
   "source": [
    "\n",
    "fpth = ['feature/feature_avg_sentence_length2max.txt','feature/feature_avg_word_length2max.txt','feature/feature_noun.txt',\n",
    "       'feature/feature_pronoun.txt','feature/feature_adjective.txt','feature/feature_numeral.txt','feature/feature_verb.txt',\n",
    "       'feature/feature_adverb.txt','feature/feature_end.txt','feature/feature_comma.txt','feature/feature_mispelling.txt','feature/feature_2gram.txt',\n",
    "        'feature/feature_3gram.txt','feature/feature_4gram.txt','feature/feature_tfidf_cos.txt','feature/feature_yule.txt',\n",
    "        'feature/feature_lexical_richness.txt','feature/feature_punc3gram.txt']\n",
    "feature = np.zeros((52601,len(fpth)))\n",
    "feature_nor = np.zeros((52601,len(fpth)))\n",
    "\n",
    "for i in range(0,len(fpth)):\n",
    "    feature_nor[:,i] = normal(np.loadtxt(fpth[i]).reshape(-1,1)).reshape(-1)\n",
    "\n",
    "\n",
    "for i in range(0,len(fpth)):\n",
    "    feature[:,i] = np.loadtxt(fpth[i])"
   ]
  },
  {
   "cell_type": "code",
   "execution_count": 31,
   "id": "73e3c9b5",
   "metadata": {},
   "outputs": [],
   "source": [
    "target = pd.read_csv('data/info_truth.csv',encoding = 'utf-8')"
   ]
  },
  {
   "cell_type": "code",
   "execution_count": 32,
   "id": "ee93ec7d",
   "metadata": {},
   "outputs": [],
   "source": [
    "y = np.array(target.same)"
   ]
  },
  {
   "cell_type": "code",
   "execution_count": 33,
   "id": "b9305c64",
   "metadata": {},
   "outputs": [],
   "source": [
    "X_train,X_test, y_train, y_test = train_test_split(feature,y,test_size=0.3, random_state = 0, stratify = y)"
   ]
  },
  {
   "cell_type": "code",
   "execution_count": 34,
   "id": "46416ea6",
   "metadata": {},
   "outputs": [
    {
     "data": {
      "text/plain": [
       "((36820, 18), (15781, 18), (36820,), (15781,))"
      ]
     },
     "execution_count": 34,
     "metadata": {},
     "output_type": "execute_result"
    }
   ],
   "source": [
    "(X_train.shape,X_test.shape,y_train.shape,y_test.shape)"
   ]
  },
  {
   "cell_type": "markdown",
   "id": "ef14fd5c",
   "metadata": {},
   "source": [
    "# Random Forest"
   ]
  },
  {
   "cell_type": "code",
   "execution_count": 36,
   "id": "35b943a4",
   "metadata": {},
   "outputs": [
    {
     "name": "stdout",
     "output_type": "stream",
     "text": [
      "F1 0.814\n",
      "auc 0.808\n",
      "c@1 0.807\n",
      "F_0.5u 0.825\n"
     ]
    }
   ],
   "source": [
    "# 18\n",
    "\n",
    "RF = RandomForestClassifier(n_estimators=400,random_state=11)\n",
    "RF.fit(X_train,y_train)\n",
    "y_pre = RF.predict(X_test)\n",
    "#print(\"RF\")\n",
    "#print(classification_report(y_test,y_pre))\n",
    "#print(\"AC\",accuracy_score(y_test,y_pre))\n",
    "\n",
    "print(\"F1\",round(f1(y_test,y_pre),3))\n",
    "print(\"auc\",round(auc(y_test,y_pre),3))\n",
    "print(\"c@1\",round(c_at_1(y_test,y_pre),3))\n",
    "print(\"F_0.5u\",round(f_05_u_score(y_test,y_pre),3))"
   ]
  },
  {
   "cell_type": "code",
   "execution_count": 10,
   "id": "9b9f6185",
   "metadata": {},
   "outputs": [
    {
     "name": "stdout",
     "output_type": "stream",
     "text": [
      "RF\n",
      "              precision    recall  f1-score   support\n",
      "\n",
      "           0       0.78      0.82      0.80      7430\n",
      "           1       0.83      0.79      0.81      8351\n",
      "\n",
      "    accuracy                           0.81     15781\n",
      "   macro avg       0.81      0.81      0.81     15781\n",
      "weighted avg       0.81      0.81      0.81     15781\n",
      "\n",
      "AC 0.8074266523034028\n",
      "F1 0.8136840169210963\n",
      "auc 0.8082194361681364\n",
      "c@1 0.8074266523034028\n",
      "F_0.5u 0.8255579607374786\n"
     ]
    }
   ],
   "source": [
    "# parameter change\n",
    "\n",
    "RF = RandomForestClassifier(n_estimators=400,random_state=11)\n",
    "RF.fit(X_train,y_train)\n",
    "y_pre = RF.predict(X_test)\n",
    "#print(\"RF\")\n",
    "#print(classification_report(y_test,y_pre))\n",
    "#print(\"AC\",accuracy_score(y_test,y_pre))\n",
    "\n",
    "print(\"F1\",round(f1(y_test,y_pre),3)\n",
    "print(\"auc\",round(auc(y_test,y_pre),3)\n",
    "print(\"c@1\",round(c_at_1(y_test,y_pre),3)\n",
    "print(\"F_0.5u\",round(f_05_u_score(y_test,y_pre),3)"
   ]
  },
  {
   "cell_type": "code",
   "execution_count": 63,
   "id": "5da0fef6",
   "metadata": {},
   "outputs": [],
   "source": [
    "#joblib.dump(RF, 'model/RF.pkl')"
   ]
  },
  {
   "cell_type": "code",
   "execution_count": 15,
   "id": "e36e492b",
   "metadata": {},
   "outputs": [
    {
     "name": "stdout",
     "output_type": "stream",
     "text": [
      "F1 0.814\n",
      "auc 0.808\n",
      "c@1 0.807\n",
      "F_0.5u 0.826\n"
     ]
    }
   ],
   "source": [
    "print(\"F1\",round(f1(y_test,y_pre),3))\n",
    "print(\"auc\",round(auc(y_test,y_pre),3))\n",
    "print(\"c@1\",round(c_at_1(y_test,y_pre),3))\n",
    "print(\"F_0.5u\",round(f_05_u_score(y_test,y_pre),3))\n",
    "#print((round(f1(y_test,y_pre),3)+round(auc(y_test,y_pre),3)+round(c_at_1(y_test,y_pre),3)+round(f_05_u_score(y_test,y_pre),3))/4)))"
   ]
  },
  {
   "cell_type": "code",
   "execution_count": 115,
   "id": "4f8c67ed",
   "metadata": {},
   "outputs": [
    {
     "name": "stdout",
     "output_type": "stream",
     "text": [
      "RF\n",
      "              precision    recall  f1-score   support\n",
      "\n",
      "           0       0.77      0.82      0.79      7430\n",
      "           1       0.83      0.79      0.81      8351\n",
      "\n",
      "    accuracy                           0.80     15781\n",
      "   macro avg       0.80      0.80      0.80     15781\n",
      "weighted avg       0.80      0.80      0.80     15781\n",
      "\n",
      "AC 0.8004562448514035\n"
     ]
    }
   ],
   "source": [
    "# parameter change\n",
    "\n",
    "RF = RandomForestClassifier(n_estimators=400,random_state=11)\n",
    "RF.fit(X_train,y_train)\n",
    "y_pre = RF.predict(X_test)\n",
    "print(\"RF\")\n",
    "print(classification_report(y_test,y_pre))\n",
    "print(\"AC\",accuracy_score(y_test,y_pre))\n",
    "\n",
    "print(\"F1 score\",f1_score(y_test,y_pre))\n",
    "print(\"Recall\",recall_score(y_test,y_pre))\n",
    "print(\"Precision\",precision_score(y_test,y_pre))\n",
    "print(\"Accuracy\",accuracy_score(y_test,y_pre))"
   ]
  },
  {
   "cell_type": "code",
   "execution_count": 123,
   "id": "803359ea",
   "metadata": {},
   "outputs": [
    {
     "name": "stdout",
     "output_type": "stream",
     "text": [
      "F1 score 0.8068216673823692\n",
      "Recall score 0.7874506047179979\n",
      "Precision score 0.8271698113207547\n",
      "Accuracy score 0.8004562448514035\n",
      "Auc score 0.8012623144720541\n"
     ]
    }
   ],
   "source": [
    "print(\"F1 score\",f1_score(y_test,y_pre))\n",
    "print(\"Recall score\",recall_score(y_test,y_pre))\n",
    "print(\"Precision score\",precision_score(y_test,y_pre))\n",
    "print(\"Accuracy score\",accuracy_score(y_test,y_pre))\n",
    "print(\"Auc score\",roc_auc_score(y_test,y_pre))"
   ]
  },
  {
   "cell_type": "code",
   "execution_count": null,
   "id": "07f3a8a3",
   "metadata": {},
   "outputs": [],
   "source": [
    "RF.feature_importances_"
   ]
  },
  {
   "cell_type": "code",
   "execution_count": 120,
   "id": "0f572f34",
   "metadata": {},
   "outputs": [
    {
     "data": {
      "text/plain": [
       "array([[6056, 1374],\n",
       "       [1775, 6576]])"
      ]
     },
     "execution_count": 120,
     "metadata": {},
     "output_type": "execute_result"
    }
   ],
   "source": [
    "confusion_matrix(y_test, y_pre)"
   ]
  },
  {
   "cell_type": "code",
   "execution_count": 112,
   "id": "975dabc2",
   "metadata": {},
   "outputs": [
    {
     "name": "stdout",
     "output_type": "stream",
     "text": [
      "RF\n",
      "              precision    recall  f1-score   support\n",
      "\n",
      "           0       0.77      0.82      0.79      7430\n",
      "           1       0.83      0.79      0.81      8351\n",
      "\n",
      "    accuracy                           0.80     15781\n",
      "   macro avg       0.80      0.80      0.80     15781\n",
      "weighted avg       0.80      0.80      0.80     15781\n",
      "\n",
      "AC 0.8004562448514035\n"
     ]
    }
   ],
   "source": [
    "# parameter change\n",
    "\n",
    "RF = RandomForestClassifier(n_estimators=100,random_state=11)\n",
    "RF.fit(X_train,y_train)\n",
    "y_pre = RF.predict(X_test)\n",
    "print(\"RF\")\n",
    "print(classification_report(y_test,y_pre))\n",
    "print(\"AC\",accuracy_score(y_test,y_pre))\n",
    "print"
   ]
  },
  {
   "cell_type": "code",
   "execution_count": 84,
   "id": "decfffd7",
   "metadata": {},
   "outputs": [
    {
     "name": "stdout",
     "output_type": "stream",
     "text": [
      "RF\n",
      "              precision    recall  f1-score   support\n",
      "\n",
      "           0       0.75      0.83      0.79      7430\n",
      "           1       0.83      0.75      0.79      8351\n",
      "\n",
      "    accuracy                           0.79     15781\n",
      "   macro avg       0.79      0.79      0.79     15781\n",
      "weighted avg       0.79      0.79      0.79     15781\n",
      "\n",
      "AC 0.7865787972878778\n"
     ]
    }
   ],
   "source": [
    "# norma; +tfidf +2 +yule +sentence lengthmax +word lengthmax + lexical richness\n",
    "\n",
    "RF = RandomForestClassifier(n_estimators=10,random_state=11)\n",
    "RF.fit(X_train,y_train)\n",
    "y_pre = RF.predict(X_test)\n",
    "print(\"RF\")\n",
    "print(classification_report(y_test,y_pre))\n",
    "print(\"AC\",accuracy_score(y_test,y_pre))"
   ]
  },
  {
   "cell_type": "code",
   "execution_count": 66,
   "id": "59d83768",
   "metadata": {},
   "outputs": [
    {
     "name": "stdout",
     "output_type": "stream",
     "text": [
      "RF\n",
      "              precision    recall  f1-score   support\n",
      "\n",
      "           0       0.74      0.82      0.78      7430\n",
      "           1       0.82      0.75      0.78      8351\n",
      "\n",
      "    accuracy                           0.78     15781\n",
      "   macro avg       0.78      0.78      0.78     15781\n",
      "weighted avg       0.79      0.78      0.78     15781\n",
      "\n",
      "AC 0.7809391039858057\n"
     ]
    }
   ],
   "source": [
    "# norma; +tfidf +2 +yule +sentence lengthmax +word lengthmax\n",
    "\n",
    "RF = RandomForestClassifier(n_estimators=10,random_state=11)\n",
    "RF.fit(X_train,y_train)\n",
    "y_pre = RF.predict(X_test)\n",
    "print(\"RF\")\n",
    "print(classification_report(y_test,y_pre))\n",
    "print(\"AC\",accuracy_score(y_test,y_pre))"
   ]
  },
  {
   "cell_type": "code",
   "execution_count": 62,
   "id": "6b74fa73",
   "metadata": {},
   "outputs": [
    {
     "name": "stdout",
     "output_type": "stream",
     "text": [
      "RF\n",
      "              precision    recall  f1-score   support\n",
      "\n",
      "           0       0.75      0.83      0.79      7430\n",
      "           1       0.83      0.75      0.79      8351\n",
      "\n",
      "    accuracy                           0.79     15781\n",
      "   macro avg       0.79      0.79      0.79     15781\n",
      "weighted avg       0.79      0.79      0.79     15781\n",
      "\n",
      "AC 0.787909511437805\n"
     ]
    }
   ],
   "source": [
    "# no norma; +tfidf +2 +yule +sentence lengthmax +word lengthmax\n",
    "# ！！！不做normalisation效果好\n",
    "RF = RandomForestClassifier(n_estimators=10,random_state=11)\n",
    "RF.fit(X_train,y_train)\n",
    "y_pre = RF.predict(X_test)\n",
    "print(\"RF\")\n",
    "print(classification_report(y_test,y_pre))\n",
    "print(\"AC\",accuracy_score(y_test,y_pre))"
   ]
  },
  {
   "cell_type": "code",
   "execution_count": 37,
   "id": "51a74982",
   "metadata": {},
   "outputs": [
    {
     "name": "stdout",
     "output_type": "stream",
     "text": [
      "RF\n",
      "              precision    recall  f1-score   support\n",
      "\n",
      "           0       0.74      0.82      0.78      7430\n",
      "           1       0.82      0.74      0.78      8351\n",
      "\n",
      "    accuracy                           0.78     15781\n",
      "   macro avg       0.78      0.78      0.78     15781\n",
      "weighted avg       0.78      0.78      0.78     15781\n",
      "\n",
      "AC 0.7802420632406057\n"
     ]
    }
   ],
   "source": [
    "#+tfidf +2 +yule +sentence lengthmax\n",
    "RF = RandomForestClassifier(n_estimators=10,random_state=11)\n",
    "RF.fit(X_train,y_train)\n",
    "y_pre = RF.predict(X_test)\n",
    "print(\"RF\")\n",
    "print(classification_report(y_test,y_pre))\n",
    "print(\"AC\",accuracy_score(y_test,y_pre))"
   ]
  },
  {
   "cell_type": "code",
   "execution_count": 29,
   "id": "ca935362",
   "metadata": {},
   "outputs": [
    {
     "name": "stdout",
     "output_type": "stream",
     "text": [
      "RF\n",
      "              precision    recall  f1-score   support\n",
      "\n",
      "           0       0.74      0.82      0.78      7430\n",
      "           1       0.82      0.74      0.78      8351\n",
      "\n",
      "    accuracy                           0.78     15781\n",
      "   macro avg       0.78      0.78      0.78     15781\n",
      "weighted avg       0.78      0.78      0.78     15781\n",
      "\n",
      "AC 0.7801786959001331\n"
     ]
    }
   ],
   "source": [
    "#+tfidf +2 +yule\n",
    "RF = RandomForestClassifier(n_estimators=10,random_state=11)\n",
    "RF.fit(X_train,y_train)\n",
    "y_pre = RF.predict(X_test)\n",
    "print(\"RF\")\n",
    "print(classification_report(y_test,y_pre))\n",
    "print(\"AC\",accuracy_score(y_test,y_pre))"
   ]
  },
  {
   "cell_type": "code",
   "execution_count": 18,
   "id": "95ad73a9",
   "metadata": {},
   "outputs": [
    {
     "name": "stdout",
     "output_type": "stream",
     "text": [
      "RF\n",
      "              precision    recall  f1-score   support\n",
      "\n",
      "           0       0.74      0.82      0.78      7430\n",
      "           1       0.82      0.74      0.78      8351\n",
      "\n",
      "    accuracy                           0.78     15781\n",
      "   macro avg       0.78      0.78      0.78     15781\n",
      "weighted avg       0.78      0.78      0.78     15781\n",
      "\n",
      "AC 0.779735124516824\n"
     ]
    }
   ],
   "source": [
    "#+tfidf +2\n",
    "RF = RandomForestClassifier(n_estimators=10,random_state=11)\n",
    "RF.fit(X_train,y_train)\n",
    "y_pre = RF.predict(X_test)\n",
    "print(\"RF\")\n",
    "print(classification_report(y_test,y_pre))\n",
    "print(\"AC\",accuracy_score(y_test,y_pre))"
   ]
  },
  {
   "cell_type": "code",
   "execution_count": 9,
   "id": "dea25989",
   "metadata": {},
   "outputs": [
    {
     "name": "stdout",
     "output_type": "stream",
     "text": [
      "RF\n",
      "              precision    recall  f1-score   support\n",
      "\n",
      "           0       0.73      0.81      0.77      7430\n",
      "           1       0.81      0.73      0.77      8351\n",
      "\n",
      "    accuracy                           0.77     15781\n",
      "   macro avg       0.77      0.77      0.77     15781\n",
      "weighted avg       0.77      0.77      0.77     15781\n",
      "\n",
      "AC 0.767505227805589\n"
     ]
    }
   ],
   "source": [
    "#+2gram \n",
    "RF = RandomForestClassifier(n_estimators=10,random_state=11)\n",
    "RF.fit(X_train,y_train)\n",
    "y_pre = RF.predict(X_test)\n",
    "print(\"RF\")\n",
    "print(classification_report(y_test,y_pre))\n",
    "print(\"AC\",accuracy_score(y_test,y_pre))"
   ]
  },
  {
   "cell_type": "code",
   "execution_count": 80,
   "id": "57d8ce73",
   "metadata": {
    "scrolled": false
   },
   "outputs": [
    {
     "name": "stdout",
     "output_type": "stream",
     "text": [
      "RF\n",
      "              precision    recall  f1-score   support\n",
      "\n",
      "           0       0.73      0.81      0.77      7430\n",
      "           1       0.81      0.74      0.77      8351\n",
      "\n",
      "    accuracy                           0.77     15781\n",
      "   macro avg       0.77      0.77      0.77     15781\n",
      "weighted avg       0.77      0.77      0.77     15781\n",
      "\n",
      "AC 0.7704834928078068\n"
     ]
    }
   ],
   "source": [
    "#no 2\n",
    "RF = RandomForestClassifier(n_estimators=10,random_state=11)\n",
    "RF.fit(X_train,y_train)\n",
    "y_pre = RF.predict(X_test)\n",
    "print(\"RF\")\n",
    "print(classification_report(y_test,y_pre))\n",
    "print(\"AC\",accuracy_score(y_test,y_pre))"
   ]
  },
  {
   "cell_type": "markdown",
   "id": "dc097310",
   "metadata": {},
   "source": [
    "# single feature random forest test"
   ]
  },
  {
   "cell_type": "code",
   "execution_count": 57,
   "id": "8b8c26d9",
   "metadata": {},
   "outputs": [],
   "source": [
    "feama = np.zeros((18,5))\n",
    "for i in range(18):\n",
    "    X_train,X_test, y_train, y_test = train_test_split(feature[:,i].reshape(-1,1),y,test_size=0.3, random_state = 0, stratify = y)\n",
    "    RF = RandomForestClassifier(n_estimators=40,random_state=11)\n",
    "    RF.fit(X_train,y_train)\n",
    "    y_pre = RF.predict(X_test)\n",
    "    feama[i][0] = round(auc(y_test,y_pre),3)\n",
    "    feama[i][1] = round(c_at_1(y_test,y_pre),3)\n",
    "    feama[i][2] = round(f_05_u_score(y_test,y_pre),3)\n",
    "    feama[i][3] = round(f1(y_test,y_pre),3)\n",
    "    feama[i][4] = (feama[i][0] + feama[i][1] + feama[i][2] + feama[i][3]) /4\n",
    "    "
   ]
  },
  {
   "cell_type": "code",
   "execution_count": 58,
   "id": "4a9bfe64",
   "metadata": {},
   "outputs": [
    {
     "data": {
      "text/plain": [
       "array([[0.539  , 0.541  , 0.567  , 0.567  , 0.5535 ],\n",
       "       [0.538  , 0.539  , 0.565  , 0.567  , 0.55225],\n",
       "       [0.579  , 0.59   , 0.615  , 0.662  , 0.6115 ],\n",
       "       [0.597  , 0.607  , 0.628  , 0.677  , 0.62725],\n",
       "       [0.583  , 0.596  , 0.62   , 0.682  , 0.62025],\n",
       "       [0.547  , 0.562  , 0.596  , 0.659  , 0.591  ],\n",
       "       [0.613  , 0.624  , 0.641  , 0.692  , 0.6425 ],\n",
       "       [0.592  , 0.603  , 0.625  , 0.679  , 0.62475],\n",
       "       [0.624  , 0.633  , 0.648  , 0.69   , 0.64875],\n",
       "       [0.665  , 0.672  , 0.682  , 0.717  , 0.684  ],\n",
       "       [0.569  , 0.582  , 0.609  , 0.664  , 0.606  ],\n",
       "       [0.572  , 0.574  , 0.597  , 0.598  , 0.58525],\n",
       "       [0.635  , 0.636  , 0.657  , 0.654  , 0.6455 ],\n",
       "       [0.676  , 0.674  , 0.698  , 0.678  , 0.6815 ],\n",
       "       [0.568  , 0.57   , 0.594  , 0.597  , 0.58225],\n",
       "       [0.542  , 0.544  , 0.568  , 0.566  , 0.555  ],\n",
       "       [0.54   , 0.542  , 0.568  , 0.569  , 0.55475],\n",
       "       [0.635  , 0.636  , 0.657  , 0.654  , 0.6455 ]])"
      ]
     },
     "execution_count": 58,
     "metadata": {},
     "output_type": "execute_result"
    }
   ],
   "source": [
    "feama"
   ]
  },
  {
   "cell_type": "markdown",
   "id": "8850c022",
   "metadata": {},
   "source": [
    "# logstic regression"
   ]
  },
  {
   "cell_type": "code",
   "execution_count": 59,
   "id": "ff32d51d",
   "metadata": {},
   "outputs": [],
   "source": [
    "X_train,X_test, y_train, y_test = train_test_split(feature_nor,y,test_size=0.3, random_state = 0, stratify = y)"
   ]
  },
  {
   "cell_type": "code",
   "execution_count": 60,
   "id": "011c8396",
   "metadata": {},
   "outputs": [],
   "source": [
    "\n",
    "clf = LogisticRegression(penalty='l2')\n",
    "clf.fit(X_train,y_train)\n",
    "y_pre = clf.predict(X_test)"
   ]
  },
  {
   "cell_type": "code",
   "execution_count": 61,
   "id": "a217b8a8",
   "metadata": {},
   "outputs": [
    {
     "name": "stdout",
     "output_type": "stream",
     "text": [
      "F1 0.77\n",
      "auc 0.739\n",
      "c@1 0.743\n",
      "F_0.5u 0.746\n"
     ]
    }
   ],
   "source": [
    "print(\"F1\",round(f1(y_test,y_pre),3))\n",
    "print(\"auc\",round(auc(y_test,y_pre),3))\n",
    "print(\"c@1\",round(c_at_1(y_test,y_pre),3))\n",
    "print(\"F_0.5u\",round(f_05_u_score(y_test,y_pre),3))\n",
    "#print((round(f1(y_test,y_pre),3)+round(auc(y_test,y_pre),3)+round(c_at_1(y_test,y_pre),3)+round(f_05_u_score(y_test,y_pre),3))/4)))"
   ]
  },
  {
   "cell_type": "code",
   "execution_count": 62,
   "id": "c16455d4",
   "metadata": {},
   "outputs": [
    {
     "data": {
      "text/plain": [
       "['model/LR.pkl']"
      ]
     },
     "execution_count": 62,
     "metadata": {},
     "output_type": "execute_result"
    }
   ],
   "source": [
    "joblib.dump(clf, 'model/LR.pkl')"
   ]
  },
  {
   "cell_type": "code",
   "execution_count": 86,
   "id": "ea1b6be5",
   "metadata": {},
   "outputs": [
    {
     "name": "stdout",
     "output_type": "stream",
     "text": [
      "LR\n",
      "              precision    recall  f1-score   support\n",
      "\n",
      "           0       0.52      0.79      0.63      7430\n",
      "           1       0.66      0.35      0.46      8351\n",
      "\n",
      "    accuracy                           0.56     15781\n",
      "   macro avg       0.59      0.57      0.54     15781\n",
      "weighted avg       0.59      0.56      0.54     15781\n",
      "\n",
      "AC 0.5590900449908117\n"
     ]
    }
   ],
   "source": [
    "#不正则化结果超级低\n",
    "clf = LogisticRegression(penalty='l2')\n",
    "clf.fit(X_train,y_train)\n",
    "y_pre = clf.predict(X_test)\n",
    "print(\"LR\")\n",
    "print(classification_report(y_test,y_pre))\n",
    "print(\"AC\",accuracy_score(y_test,y_pre))"
   ]
  },
  {
   "cell_type": "markdown",
   "id": "8f6ef885",
   "metadata": {},
   "source": [
    "# decision tree"
   ]
  },
  {
   "cell_type": "code",
   "execution_count": 64,
   "id": "3dd8ccfe",
   "metadata": {},
   "outputs": [
    {
     "name": "stdout",
     "output_type": "stream",
     "text": [
      "F1 0.73\n",
      "auc 0.714\n",
      "c@1 0.715\n",
      "F_0.5u 0.731\n"
     ]
    }
   ],
   "source": [
    "\n",
    "clf = tree.DecisionTreeClassifier()\n",
    "clf.fit(X_train,y_train)\n",
    "y_pre = clf.predict(X_test)\n",
    "print(\"F1\",round(f1(y_test,y_pre),3))\n",
    "print(\"auc\",round(auc(y_test,y_pre),3))\n",
    "print(\"c@1\",round(c_at_1(y_test,y_pre),3))\n",
    "print(\"F_0.5u\",round(f_05_u_score(y_test,y_pre),3))"
   ]
  },
  {
   "cell_type": "code",
   "execution_count": 65,
   "id": "d4c0cf52",
   "metadata": {},
   "outputs": [
    {
     "data": {
      "text/plain": [
       "['model/DT.pkl']"
      ]
     },
     "execution_count": 65,
     "metadata": {},
     "output_type": "execute_result"
    }
   ],
   "source": [
    "joblib.dump(clf, 'model/DT.pkl')"
   ]
  },
  {
   "cell_type": "code",
   "execution_count": 31,
   "id": "e1712db4",
   "metadata": {},
   "outputs": [
    {
     "name": "stdout",
     "output_type": "stream",
     "text": [
      "DT\n",
      "              precision    recall  f1-score   support\n",
      "\n",
      "           0       0.69      0.69      0.69      7430\n",
      "           1       0.73      0.73      0.73      8351\n",
      "\n",
      "    accuracy                           0.71     15781\n",
      "   macro avg       0.71      0.71      0.71     15781\n",
      "weighted avg       0.71      0.71      0.71     15781\n",
      "\n",
      "AC 0.7102845193587225\n"
     ]
    }
   ],
   "source": [
    "\n",
    "clf = tree.DecisionTreeClassifier()\n",
    "clf.fit(X_train,y_train)\n",
    "y_pre = clf.predict(X_test)\n",
    "print(\"DT\")\n",
    "print(classification_report(y_test,y_pre))\n",
    "print(\"AC\",accuracy_score(y_test,y_pre))"
   ]
  },
  {
   "cell_type": "markdown",
   "id": "bc43ae91",
   "metadata": {},
   "source": [
    "# SVM"
   ]
  },
  {
   "cell_type": "code",
   "execution_count": 66,
   "id": "2aa196d5",
   "metadata": {
    "scrolled": true
   },
   "outputs": [
    {
     "name": "stdout",
     "output_type": "stream",
     "text": [
      "F1 0.784\n",
      "auc 0.759\n",
      "c@1 0.762\n",
      "F_0.5u 0.766\n"
     ]
    }
   ],
   "source": [
    "# 6.4 335\n",
    "clf = SVC(kernel='rbf', probability=True)\n",
    "clf.fit(X_train,y_train)\n",
    "y_pre = clf.predict(X_test)\n",
    "print(\"F1\",round(f1(y_test,y_pre),3))\n",
    "print(\"auc\",round(auc(y_test,y_pre),3))\n",
    "print(\"c@1\",round(c_at_1(y_test,y_pre),3))\n",
    "print(\"F_0.5u\",round(f_05_u_score(y_test,y_pre),3))"
   ]
  },
  {
   "cell_type": "code",
   "execution_count": 26,
   "id": "78597bc2",
   "metadata": {},
   "outputs": [
    {
     "data": {
      "text/plain": [
       "767.75"
      ]
     },
     "execution_count": 26,
     "metadata": {},
     "output_type": "execute_result"
    }
   ],
   "source": [
    "joblib.dump(clf, 'model/svm.pkl')"
   ]
  },
  {
   "cell_type": "code",
   "execution_count": 72,
   "id": "1e8a2662",
   "metadata": {},
   "outputs": [
    {
     "name": "stdout",
     "output_type": "stream",
     "text": [
      "SVM\n",
      "              precision    recall  f1-score   support\n",
      "\n",
      "           0       0.76      0.71      0.73      7430\n",
      "           1       0.76      0.80      0.78      8351\n",
      "\n",
      "    accuracy                           0.76     15781\n",
      "   macro avg       0.76      0.76      0.76     15781\n",
      "weighted avg       0.76      0.76      0.76     15781\n",
      "\n",
      "AC 0.7573664533299538\n"
     ]
    }
   ],
   "source": [
    "clf = SVC(kernel='rbf', probability=True)\n",
    "clf.fit(X_train,y_train)\n",
    "y_pre = clf.predict(X_test)\n",
    "print(\"SVM\")\n",
    "print(classification_report(y_test,y_pre))\n",
    "print(\"AC\",accuracy_score(y_test,y_pre))"
   ]
  },
  {
   "cell_type": "code",
   "execution_count": null,
   "id": "c2650cb1",
   "metadata": {},
   "outputs": [],
   "source": [
    "#joblib.dump(RF, 'model/LR.pkl')"
   ]
  }
 ],
 "metadata": {
  "kernelspec": {
   "display_name": "Python 3",
   "language": "python",
   "name": "python3"
  },
  "language_info": {
   "codemirror_mode": {
    "name": "ipython",
    "version": 3
   },
   "file_extension": ".py",
   "mimetype": "text/x-python",
   "name": "python",
   "nbconvert_exporter": "python",
   "pygments_lexer": "ipython3",
   "version": "3.7.4"
  }
 },
 "nbformat": 4,
 "nbformat_minor": 5
}
