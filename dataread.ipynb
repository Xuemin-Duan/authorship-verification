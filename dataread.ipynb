{
 "cells": [
  {
   "cell_type": "code",
   "execution_count": 1,
   "metadata": {},
   "outputs": [],
   "source": [
    "import json\n",
    "import numpy as np\n",
    "import random\n",
    "from tqdm import tqdm\n",
    "import nltk\n",
    "import pandas as pd\n",
    "import re\n",
    "import matplotlib.pyplot as plt\n",
    "import sklearn"
   ]
  },
  {
   "cell_type": "code",
   "execution_count": 2,
   "metadata": {},
   "outputs": [],
   "source": [
    "import jsonlines"
   ]
  },
  {
   "cell_type": "code",
   "execution_count": 3,
   "metadata": {},
   "outputs": [],
   "source": [
    "df=pd.DataFrame(columns={\"id\":\"\",\"same\":\"\"},index=[0])"
   ]
  },
  {
   "cell_type": "code",
   "execution_count": 4,
   "metadata": {},
   "outputs": [],
   "source": [
    "#f = 'data/pan20-authorship-verification-training-small.jsonl'\n",
    "i = 0\n",
    "with open(\"data/pan20-authorship-verification-training-small-truth.jsonl\", \"r+\", encoding=\"utf8\") as f:\n",
    "    for item in jsonlines.Reader(f):\n",
    "        df.loc[i] = [item['id'],int(item['same'])]\n",
    "        i += 1"
   ]
  },
  {
   "cell_type": "code",
   "execution_count": 5,
   "metadata": {},
   "outputs": [
    {
     "data": {
      "text/html": [
       "<div>\n",
       "<style scoped>\n",
       "    .dataframe tbody tr th:only-of-type {\n",
       "        vertical-align: middle;\n",
       "    }\n",
       "\n",
       "    .dataframe tbody tr th {\n",
       "        vertical-align: top;\n",
       "    }\n",
       "\n",
       "    .dataframe thead th {\n",
       "        text-align: right;\n",
       "    }\n",
       "</style>\n",
       "<table border=\"1\" class=\"dataframe\">\n",
       "  <thead>\n",
       "    <tr style=\"text-align: right;\">\n",
       "      <th></th>\n",
       "      <th>id</th>\n",
       "      <th>same</th>\n",
       "    </tr>\n",
       "  </thead>\n",
       "  <tbody>\n",
       "    <tr>\n",
       "      <th>0</th>\n",
       "      <td>6cced668-6e51-5212-873c-717f2bc91ce6</td>\n",
       "      <td>1</td>\n",
       "    </tr>\n",
       "    <tr>\n",
       "      <th>1</th>\n",
       "      <td>3c6c188a-db28-59aa-8c09-3d0f799ff579</td>\n",
       "      <td>1</td>\n",
       "    </tr>\n",
       "    <tr>\n",
       "      <th>2</th>\n",
       "      <td>b0cfa94f-c9ec-5aa5-8331-a5a249b664cf</td>\n",
       "      <td>1</td>\n",
       "    </tr>\n",
       "    <tr>\n",
       "      <th>3</th>\n",
       "      <td>e6e86e73-9a7b-58f2-a652-a17b4a1bcabf</td>\n",
       "      <td>1</td>\n",
       "    </tr>\n",
       "    <tr>\n",
       "      <th>4</th>\n",
       "      <td>4fe541af-912e-5a86-81a5-94c6d3891509</td>\n",
       "      <td>1</td>\n",
       "    </tr>\n",
       "    <tr>\n",
       "      <th>...</th>\n",
       "      <td>...</td>\n",
       "      <td>...</td>\n",
       "    </tr>\n",
       "    <tr>\n",
       "      <th>52596</th>\n",
       "      <td>3926a1bd-6d33-5513-a694-12d7590443d4</td>\n",
       "      <td>0</td>\n",
       "    </tr>\n",
       "    <tr>\n",
       "      <th>52597</th>\n",
       "      <td>17227d87-a3cb-5aca-b5fd-bb642e88b030</td>\n",
       "      <td>0</td>\n",
       "    </tr>\n",
       "    <tr>\n",
       "      <th>52598</th>\n",
       "      <td>0332dcaa-7230-508b-badb-820f9d8eebaa</td>\n",
       "      <td>0</td>\n",
       "    </tr>\n",
       "    <tr>\n",
       "      <th>52599</th>\n",
       "      <td>f5e4884a-13fd-51fb-a880-053d6655d59a</td>\n",
       "      <td>0</td>\n",
       "    </tr>\n",
       "    <tr>\n",
       "      <th>52600</th>\n",
       "      <td>900c4a19-e22b-59fd-9cc7-8490919b1696</td>\n",
       "      <td>0</td>\n",
       "    </tr>\n",
       "  </tbody>\n",
       "</table>\n",
       "<p>52601 rows × 2 columns</p>\n",
       "</div>"
      ],
      "text/plain": [
       "                                         id same\n",
       "0      6cced668-6e51-5212-873c-717f2bc91ce6    1\n",
       "1      3c6c188a-db28-59aa-8c09-3d0f799ff579    1\n",
       "2      b0cfa94f-c9ec-5aa5-8331-a5a249b664cf    1\n",
       "3      e6e86e73-9a7b-58f2-a652-a17b4a1bcabf    1\n",
       "4      4fe541af-912e-5a86-81a5-94c6d3891509    1\n",
       "...                                     ...  ...\n",
       "52596  3926a1bd-6d33-5513-a694-12d7590443d4    0\n",
       "52597  17227d87-a3cb-5aca-b5fd-bb642e88b030    0\n",
       "52598  0332dcaa-7230-508b-badb-820f9d8eebaa    0\n",
       "52599  f5e4884a-13fd-51fb-a880-053d6655d59a    0\n",
       "52600  900c4a19-e22b-59fd-9cc7-8490919b1696    0\n",
       "\n",
       "[52601 rows x 2 columns]"
      ]
     },
     "execution_count": 5,
     "metadata": {},
     "output_type": "execute_result"
    }
   ],
   "source": [
    "df"
   ]
  },
  {
   "cell_type": "code",
   "execution_count": 7,
   "metadata": {},
   "outputs": [],
   "source": [
    "df.to_csv('info_truth.csv', sep=',', header=True, index=False)"
   ]
  },
  {
   "cell_type": "code",
   "execution_count": 8,
   "metadata": {},
   "outputs": [],
   "source": [
    "df=pd.DataFrame(columns={\"id\":\"\",\"fandom1\":\"\",\"fandom2\":\"\",\"pair1\":\"\",\"pair2\":\"\"},index=[0])"
   ]
  },
  {
   "cell_type": "code",
   "execution_count": 11,
   "metadata": {},
   "outputs": [],
   "source": [
    "#f = 'data/pan20-authorship-verification-training-small.jsonl'\n",
    "i = 0\n",
    "with open(\"data/pan20-authorship-verification-training-small.jsonl\", \"r+\", encoding=\"utf8\") as f:\n",
    "    for item in jsonlines.Reader(f):\n",
    "        df.loc[i] = [item['id'],item['fandoms'][0],item['fandoms'][1],item['pair'][0],item['pair'][1]]\n",
    "        i += 1"
   ]
  },
  {
   "cell_type": "code",
   "execution_count": 12,
   "metadata": {},
   "outputs": [
    {
     "data": {
      "text/html": [
       "<div>\n",
       "<style scoped>\n",
       "    .dataframe tbody tr th:only-of-type {\n",
       "        vertical-align: middle;\n",
       "    }\n",
       "\n",
       "    .dataframe tbody tr th {\n",
       "        vertical-align: top;\n",
       "    }\n",
       "\n",
       "    .dataframe thead th {\n",
       "        text-align: right;\n",
       "    }\n",
       "</style>\n",
       "<table border=\"1\" class=\"dataframe\">\n",
       "  <thead>\n",
       "    <tr style=\"text-align: right;\">\n",
       "      <th></th>\n",
       "      <th>id</th>\n",
       "      <th>fandom1</th>\n",
       "      <th>fandom2</th>\n",
       "      <th>pair1</th>\n",
       "      <th>pair2</th>\n",
       "    </tr>\n",
       "  </thead>\n",
       "  <tbody>\n",
       "    <tr>\n",
       "      <th>0</th>\n",
       "      <td>6cced668-6e51-5212-873c-717f2bc91ce6</td>\n",
       "      <td>Guardians of Ga'Hoole</td>\n",
       "      <td>Hetalia - Axis Powers</td>\n",
       "      <td>I shift a bit, warily letting my eyes dart fro...</td>\n",
       "      <td>\"All will become one with Russia,\" he said, al...</td>\n",
       "    </tr>\n",
       "    <tr>\n",
       "      <th>1</th>\n",
       "      <td>3c6c188a-db28-59aa-8c09-3d0f799ff579</td>\n",
       "      <td>Guardians of Ga'Hoole</td>\n",
       "      <td>Warriors</td>\n",
       "      <td>I shift a bit, warily letting my eyes dart fro...</td>\n",
       "      <td>Suddenly, a piece of ice falls into the pit of...</td>\n",
       "    </tr>\n",
       "    <tr>\n",
       "      <th>2</th>\n",
       "      <td>b0cfa94f-c9ec-5aa5-8331-a5a249b664cf</td>\n",
       "      <td>Guardians of Ga'Hoole</td>\n",
       "      <td>Xiaolin Showdown</td>\n",
       "      <td>A single tear escaped me as I left. I did have...</td>\n",
       "      <td>got the Yang yoyo.\" Kimiko pulled the other ha...</td>\n",
       "    </tr>\n",
       "    <tr>\n",
       "      <th>3</th>\n",
       "      <td>e6e86e73-9a7b-58f2-a652-a17b4a1bcabf</td>\n",
       "      <td>Hetalia - Axis Powers</td>\n",
       "      <td>Warriors</td>\n",
       "      <td>\"Ja.\" Ludwig kept his gaze upon her, solidly. ...</td>\n",
       "      <td>SilverGray lll...YellowRagged llll...GrayMilli...</td>\n",
       "    </tr>\n",
       "    <tr>\n",
       "      <th>4</th>\n",
       "      <td>4fe541af-912e-5a86-81a5-94c6d3891509</td>\n",
       "      <td>Hetalia - Axis Powers</td>\n",
       "      <td>Xiaolin Showdown</td>\n",
       "      <td>And he did. Slowly, hesitantly...but coming fr...</td>\n",
       "      <td>\"Let\"s go,\" Raimondo said and then started in ...</td>\n",
       "    </tr>\n",
       "  </tbody>\n",
       "</table>\n",
       "</div>"
      ],
      "text/plain": [
       "                                     id                fandom1  \\\n",
       "0  6cced668-6e51-5212-873c-717f2bc91ce6  Guardians of Ga'Hoole   \n",
       "1  3c6c188a-db28-59aa-8c09-3d0f799ff579  Guardians of Ga'Hoole   \n",
       "2  b0cfa94f-c9ec-5aa5-8331-a5a249b664cf  Guardians of Ga'Hoole   \n",
       "3  e6e86e73-9a7b-58f2-a652-a17b4a1bcabf  Hetalia - Axis Powers   \n",
       "4  4fe541af-912e-5a86-81a5-94c6d3891509  Hetalia - Axis Powers   \n",
       "\n",
       "                 fandom2                                              pair1  \\\n",
       "0  Hetalia - Axis Powers  I shift a bit, warily letting my eyes dart fro...   \n",
       "1               Warriors  I shift a bit, warily letting my eyes dart fro...   \n",
       "2       Xiaolin Showdown  A single tear escaped me as I left. I did have...   \n",
       "3               Warriors  \"Ja.\" Ludwig kept his gaze upon her, solidly. ...   \n",
       "4       Xiaolin Showdown  And he did. Slowly, hesitantly...but coming fr...   \n",
       "\n",
       "                                               pair2  \n",
       "0  \"All will become one with Russia,\" he said, al...  \n",
       "1  Suddenly, a piece of ice falls into the pit of...  \n",
       "2  got the Yang yoyo.\" Kimiko pulled the other ha...  \n",
       "3  SilverGray lll...YellowRagged llll...GrayMilli...  \n",
       "4  \"Let\"s go,\" Raimondo said and then started in ...  "
      ]
     },
     "execution_count": 12,
     "metadata": {},
     "output_type": "execute_result"
    }
   ],
   "source": [
    "df.head()"
   ]
  },
  {
   "cell_type": "code",
   "execution_count": 13,
   "metadata": {},
   "outputs": [],
   "source": [
    "df.to_csv('data/data_split.csv', sep=',', header=True, index=False)"
   ]
  }
 ],
 "metadata": {
  "kernelspec": {
   "display_name": "Python 3",
   "language": "python",
   "name": "python3"
  },
  "language_info": {
   "codemirror_mode": {
    "name": "ipython",
    "version": 3
   },
   "file_extension": ".py",
   "mimetype": "text/x-python",
   "name": "python",
   "nbconvert_exporter": "python",
   "pygments_lexer": "ipython3",
   "version": "3.7.4"
  }
 },
 "nbformat": 4,
 "nbformat_minor": 4
}
